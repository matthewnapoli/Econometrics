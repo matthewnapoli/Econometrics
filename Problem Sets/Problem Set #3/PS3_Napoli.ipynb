{
 "cells": [
  {
   "cell_type": "markdown",
   "metadata": {},
   "source": [
    "# ECON 103 - Problem Set 3\n",
    "\n",
    "This problem set is devoted to the study the properties of the simple regression model discussed in Chapter~4.\n",
    "\n",
    "You will need the following datasets from the course website or the below link (which have uploaded for you):\n",
    "\n",
    "1.  `food`\n",
    "2.  `wa_wheat`\n",
    "\n",
    "You can review how to load a dataset in `R` by checking the Section 0 of the Jupiter Notebook called `Week_5_Econ_103_Lab_Class_Part_I.ipynb` \n",
    "\n",
    "## Due: May 3, 2022"
   ]
  },
  {
   "cell_type": "markdown",
   "metadata": {},
   "source": [
    "Theory questions"
   ]
  },
  {
   "cell_type": "markdown",
   "metadata": {},
   "source": [
    "## Question 1 (4.2, Page 158)\n",
    "\n",
    "Consider the following estimated regression equation (standard errors in parentheses):\n",
    "\n",
    "\n",
    "$$\\hat{y} = 10.00 + 1.00x$$\n",
    "\n",
    "$$(se) \\ (1.23) \\ \\ (0.117)$$\n",
    "\n",
    "$$R^{2} = 0.756$$\n",
    "\n",
    "According to the regression, we hqave that $\\hat{b}_1=10.00$ and \n",
    "$\\hat{b}_2=1.00$ Rewrite the estimates that would result if:\n",
    "\n",
    "<br>\n",
    "\n",
    ">(a) All values of $x$ were divided by 20 before estimation.\n",
    "<br>\n",
    "(b) All values of $y$ were multiplied by 50 before estimation. \n",
    "<br>\n",
    "(c) All values of $y$ and $x$ were multiplied by 20 before estimation. \n"
   ]
  },
  {
   "cell_type": "markdown",
   "metadata": {
    "deletable": false,
    "nbsimplegrader": {
     "response": true
    }
   },
   "source": [
    "<b>(a) If all values of x were divided by 20 before estimation, the resulting $\\hat{b}_1 = 10.0$, and $\\hat{b}_2 = 20.0$, with $se(b_1) = 1.23, se(b_2) = 2.34$</b>\n",
    "\n",
    "<b>(b) If all values of y were multiplied by 50 before estimation, the resulting $\\hat{b}_1 = 50.0$, and $\\hat{b}_2 = 5.0$, with $se(b_1) = 61.5, se(b_2) = 5.85$</b>\n",
    "\n",
    "\n",
    "<b>(c) If all values of x and y were multiplied by 20 before estimation, the resulting $\\hat{b}_1 = 20.0$, and $\\hat{b}_2 = 1.0$, with $se(b_1) = 24.6, se(b_2) = 0.117$</b>\n"
   ]
  },
  {
   "cell_type": "code",
   "execution_count": null,
   "metadata": {
    "deletable": false,
    "nbsimplegrader": {
     "response": true
    }
   },
   "outputs": [],
   "source": []
  },
  {
   "cell_type": "markdown",
   "metadata": {
    "deletable": false,
    "nbsimplegrader": {
     "response": true
    }
   },
   "source": []
  },
  {
   "cell_type": "markdown",
   "metadata": {
    "deletable": false,
    "editable": false,
    "nbsimplegrader": {
     "executable": false
    }
   },
   "source": [
    "## Data analysis questions"
   ]
  },
  {
   "cell_type": "markdown",
   "metadata": {},
   "source": [
    "## Question 2\n",
    "\n",
    "Consider the data set of food expenditure and income used in class.\n",
    "Let $y$ denotes Food expenditure and $x$ denotes the family weekly income. Do the following tasks:\n",
    "\n",
    "<br>\n",
    "\n",
    ">(a) Evaluate the sample correlation between $x$ and $y,$ that is, $r_{xy}$ and compute the squared value of this correlation, that is, $r^2_{xy}$.<br>\n",
    "(You can obtain the correlation between variables by using the command `cor(food$food_exp, food$income)`).<br>\n",
    "(Also check Section 5 of the the Notebook `Week_4_Econ_103_Lab_Class.ipynb`)\n",
    "<br>\n",
    "\n",
    ">(b) Evaluate the linear regression $Y = \\beta_1 + \\beta_2 \\cdot X + \\epsilon$  and the linear regression $X = \\beta_1 + \\beta_2 \\cdot Y + \\epsilon.$<br>\n",
    "Are the $\\beta_2$ estimates the same?<br>\n",
    "Are the $R^2$ the same?<br>\n",
    "How does the $R^2$ compare with the squared value of the correlation $r^2_{xy}$?<br> \n",
    "(check Section 5 of the the Notebook `Week_4_Econ_103_Lab_Class.ipynb`)\n",
    "<br>\n",
    "\n",
    ">(c) Evaluate the sample standard deviation of $x$ and $y,$ that is, $\\sigma_x,\\sigma_y$\n",
    "and generate the transformed variables $\\tilde{y} = y/\\sigma_y$ and $\\tilde{x} = x/\\sigma_x.$\n",
    "<br>\n",
    "(You can obtain the standard errors by using the following commands \n",
    "`sy <- sd(food$food_exp)`  and  `sx<-sd(food$income)`. <br>\n",
    "(Check also Section 1 of the Notebook `Week_5_Econ_103_Lab_Class_Part_I.ipynb`)\n",
    " \n",
    "\n",
    ">(d) Evaluate the linear regression $\\tilde{y} = \\beta_1 + \\beta_2 \\cdot \\tilde{x} + \\epsilon$\n",
    "and the linear regression $\\tilde{x} = \\beta_1 + \\beta_2 \\cdot \\tilde{y} + \\epsilon.$\n",
    "Are the $\\beta_2$ estimates the same?\n",
    "Are the $R^2$ the same?\n",
    "How does the $\\beta_2$ estimates compare with the correlation $r_{xy}$?\n",
    "How does the squared value of the $\\beta_2$ estimates compare with the $R^2$?\n",
    "(check Section 5 of the the Notebook `Week_4_Econ_103_Lab_Class.ipynb` and Sectio 1 of `Week_5_Econ_103_Lab_Class_Part_I.ipynb`)\n",
    "<br> \n",
    "\n",
    ">(e) Explain the results of item (d) in terms of the variable transformations and the following formulas:\n",
    "$$ r_{XY} = \\frac{Cov(X,Y)}{\\sqrt{Var(X)\\cdot Var(X)}}, \\beta_2 = \\frac{Cov(X,Y)}{Var(X)}, R^2 = r_{XY}^2$$<br>\n",
    "(This is a theoretical question, no code needed)\n",
    "\n"
   ]
  },
  {
   "cell_type": "code",
   "execution_count": 1,
   "metadata": {
    "deletable": false,
    "nbsimplegrader": {
     "response": true
    }
   },
   "outputs": [
    {
     "data": {
      "text/html": [
       "<div>\n",
       "<style scoped>\n",
       "    .dataframe tbody tr th:only-of-type {\n",
       "        vertical-align: middle;\n",
       "    }\n",
       "\n",
       "    .dataframe tbody tr th {\n",
       "        vertical-align: top;\n",
       "    }\n",
       "\n",
       "    .dataframe thead th {\n",
       "        text-align: right;\n",
       "    }\n",
       "</style>\n",
       "<table border=\"1\" class=\"dataframe\">\n",
       "  <thead>\n",
       "    <tr style=\"text-align: right;\">\n",
       "      <th></th>\n",
       "      <th>income</th>\n",
       "      <th>food_exp</th>\n",
       "    </tr>\n",
       "    <tr>\n",
       "      <th>rownames</th>\n",
       "      <th></th>\n",
       "      <th></th>\n",
       "    </tr>\n",
       "  </thead>\n",
       "  <tbody>\n",
       "    <tr>\n",
       "      <th>1</th>\n",
       "      <td>3.69</td>\n",
       "      <td>115.22</td>\n",
       "    </tr>\n",
       "    <tr>\n",
       "      <th>2</th>\n",
       "      <td>4.39</td>\n",
       "      <td>135.98</td>\n",
       "    </tr>\n",
       "    <tr>\n",
       "      <th>3</th>\n",
       "      <td>4.75</td>\n",
       "      <td>119.34</td>\n",
       "    </tr>\n",
       "  </tbody>\n",
       "</table>\n",
       "</div>"
      ],
      "text/plain": [
       "          income  food_exp\n",
       "rownames                  \n",
       "1           3.69    115.22\n",
       "2           4.39    135.98\n",
       "3           4.75    119.34"
      ]
     },
     "execution_count": 1,
     "metadata": {},
     "output_type": "execute_result"
    }
   ],
   "source": [
    "import pandas as pd\n",
    "import numpy as np\n",
    "from numpy.polynomial import polynomial as Poly\n",
    "import pyreadr as pyrr\n",
    "import matplotlib.pyplot as plt\n",
    "result_f = pyrr.read_r(\"food.rda\")\n",
    "result_w = pyrr.read_r(\"wa_wheat.rda\")\n",
    "df_f = result_f[\"food\"]\n",
    "df_w = result_w[\"wa_wheat\"]\n",
    "\n",
    "#swapping food.rda rows, so \"x\" comes first\n",
    "column_order = ['income','food_exp']\n",
    "df_f = df_f.reindex(columns = column_order)\n",
    "df_f.head(3)"
   ]
  },
  {
   "cell_type": "markdown",
   "metadata": {},
   "source": []
  },
  {
   "cell_type": "markdown",
   "metadata": {
    "deletable": false,
    "nbsimplegrader": {
     "response": true
    }
   },
   "source": [
    " (a) $r_{xy} \\approx 0.62048$ and $r_{xy}^2 \\approx 0.38500$\n",
    "\n",
    " (b) The $\\beta_2$ estimates are not the same, but the $R^2$ values are. ($R^2 = r_{xy}^2$)\n",
    " \n",
    " (c) $\\bf{\\sigma_{x} \\approx 6.8477}$, $\\bf{\\sigma_{y} \\approx 112.6751}$.\n",
    " \n",
    " (d) Yes, the $\\beta_2$ estimates are the same and the $R^2$ values are the same. In this model, the $\\beta_2$ = $r_{XY} = \\sqrt{R^2}.$\n",
    " \n",
    " (e) $\\sqrt{R^2} = (r_{XY}) = \\frac{Cov(X,Y)}{\\sqrt{(Var(X)^2)}} = \\frac{Cov(X,Y)}{Var(X)} = \\beta_2$"
   ]
  },
  {
   "cell_type": "code",
   "execution_count": 2,
   "metadata": {
    "deletable": false,
    "nbsimplegrader": {
     "response": true
    }
   },
   "outputs": [
    {
     "name": "stdout",
     "output_type": "stream",
     "text": [
      "b1 = 83.41600202075934, and b2 = 10.209642968119491\n",
      "r_xy = 0.6204854770349204, R^2 = 0.38500222721125277\n"
     ]
    },
    {
     "data": {
      "image/png": "[encoded data removed]",
      "text/plain": [
       "<Figure size 640x480 with 1 Axes>"
      ]
     },
     "metadata": {},
     "output_type": "display_data"
    }
   ],
   "source": [
    "##For the regression: Y = B1 + B2*X + e\n",
    "\n",
    "\n",
    "#finding the linear regression\n",
    "x = df_f['income']\n",
    "y = df_f['food_exp']\n",
    "lin_fit = Poly.polyfit(x,y,deg = 1,full = False)\n",
    "print(f\"b1 = {lin_fit[0]}, and b2 = {lin_fit[1]}\")\n",
    "x_l = np.linspace(0,35,100)\n",
    "plt.plot(x, y, 'o', label='original data')\n",
    "plt.plot(x_l, lin_fit[0] + lin_fit[1]*x_l, 'r', label = 'lin fit')\n",
    "\n",
    "#finding correlation\n",
    "corr_matrix = np.corrcoef(x,y)\n",
    "corr = corr_matrix[0][1]\n",
    "R_sq = corr**2\n",
    "print(f\"r_xy = {corr}, R^2 = {R_sq}\")"
   ]
  },
  {
   "cell_type": "code",
   "execution_count": 3,
   "metadata": {},
   "outputs": [
    {
     "name": "stdout",
     "output_type": "stream",
     "text": [
      "b1 = 8.91128800343427, and b2 = 0.03770966608856514\n",
      "r_xy = 0.6204854770349204, R^2 = 0.38500222721125277\n"
     ]
    },
    {
     "data": {
      "image/png": "[encoded data removed]",
      "text/plain": [
       "<Figure size 640x480 with 1 Axes>"
      ]
     },
     "metadata": {},
     "output_type": "display_data"
    }
   ],
   "source": [
    "##For the regression: X = B1 + B2*Y + e\n",
    "\n",
    "#finding the linear regression\n",
    "y = df_f['income']\n",
    "x = df_f['food_exp']\n",
    "lin_fit = Poly.polyfit(x,y,deg = 1,full = False)\n",
    "print(f\"b1 = {lin_fit[0]}, and b2 = {lin_fit[1]}\")\n",
    "x_l = np.linspace(0,600,100)\n",
    "plt.plot(x, y, 'o', label='original data')\n",
    "plt.plot(x_l, lin_fit[0] + lin_fit[1]*x_l, 'r', label = 'lin fit')\n",
    "\n",
    "#finding correlation\n",
    "corr_matrix = np.corrcoef(x,y)\n",
    "corr = corr_matrix[0][1]\n",
    "R_sq = corr**2\n",
    "print(f\"r_xy = {corr}, R^2 = {R_sq}\")"
   ]
  },
  {
   "cell_type": "code",
   "execution_count": 4,
   "metadata": {},
   "outputs": [
    {
     "name": "stdout",
     "output_type": "stream",
     "text": [
      "income        6.847773\n",
      "food_exp    112.675181\n",
      "dtype: float64\n"
     ]
    },
    {
     "data": {
      "text/html": [
       "<div>\n",
       "<style scoped>\n",
       "    .dataframe tbody tr th:only-of-type {\n",
       "        vertical-align: middle;\n",
       "    }\n",
       "\n",
       "    .dataframe tbody tr th {\n",
       "        vertical-align: top;\n",
       "    }\n",
       "\n",
       "    .dataframe thead th {\n",
       "        text-align: right;\n",
       "    }\n",
       "</style>\n",
       "<table border=\"1\" class=\"dataframe\">\n",
       "  <thead>\n",
       "    <tr style=\"text-align: right;\">\n",
       "      <th></th>\n",
       "      <th>income</th>\n",
       "      <th>food_exp</th>\n",
       "    </tr>\n",
       "    <tr>\n",
       "      <th>rownames</th>\n",
       "      <th></th>\n",
       "      <th></th>\n",
       "    </tr>\n",
       "  </thead>\n",
       "  <tbody>\n",
       "    <tr>\n",
       "      <th>1</th>\n",
       "      <td>3.69</td>\n",
       "      <td>115.22</td>\n",
       "    </tr>\n",
       "    <tr>\n",
       "      <th>2</th>\n",
       "      <td>4.39</td>\n",
       "      <td>135.98</td>\n",
       "    </tr>\n",
       "    <tr>\n",
       "      <th>3</th>\n",
       "      <td>4.75</td>\n",
       "      <td>119.34</td>\n",
       "    </tr>\n",
       "  </tbody>\n",
       "</table>\n",
       "</div>"
      ],
      "text/plain": [
       "          income  food_exp\n",
       "rownames                  \n",
       "1           3.69    115.22\n",
       "2           4.39    135.98\n",
       "3           4.75    119.34"
      ]
     },
     "execution_count": 4,
     "metadata": {},
     "output_type": "execute_result"
    }
   ],
   "source": [
    "print(df_f.std())\n",
    "df_f.head(3)"
   ]
  },
  {
   "cell_type": "code",
   "execution_count": 5,
   "metadata": {},
   "outputs": [
    {
     "name": "stdout",
     "output_type": "stream",
     "text": [
      "6.8477726071684915 112.67518102139941\n"
     ]
    }
   ],
   "source": [
    "std_dev_x = df_f.std()[0]\n",
    "std_dev_y = df_f.std()[1]\n",
    "print(std_dev_x,std_dev_y)"
   ]
  },
  {
   "cell_type": "code",
   "execution_count": 6,
   "metadata": {},
   "outputs": [
    {
     "data": {
      "text/html": [
       "<div>\n",
       "<style scoped>\n",
       "    .dataframe tbody tr th:only-of-type {\n",
       "        vertical-align: middle;\n",
       "    }\n",
       "\n",
       "    .dataframe tbody tr th {\n",
       "        vertical-align: top;\n",
       "    }\n",
       "\n",
       "    .dataframe thead th {\n",
       "        text-align: right;\n",
       "    }\n",
       "</style>\n",
       "<table border=\"1\" class=\"dataframe\">\n",
       "  <thead>\n",
       "    <tr style=\"text-align: right;\">\n",
       "      <th></th>\n",
       "      <th>income</th>\n",
       "      <th>food_exp</th>\n",
       "      <th>y_tilda</th>\n",
       "      <th>x_tilda</th>\n",
       "    </tr>\n",
       "    <tr>\n",
       "      <th>rownames</th>\n",
       "      <th></th>\n",
       "      <th></th>\n",
       "      <th></th>\n",
       "      <th></th>\n",
       "    </tr>\n",
       "  </thead>\n",
       "  <tbody>\n",
       "    <tr>\n",
       "      <th>1</th>\n",
       "      <td>3.69</td>\n",
       "      <td>115.22</td>\n",
       "      <td>1.022585</td>\n",
       "      <td>0.538861</td>\n",
       "    </tr>\n",
       "    <tr>\n",
       "      <th>2</th>\n",
       "      <td>4.39</td>\n",
       "      <td>135.98</td>\n",
       "      <td>1.206832</td>\n",
       "      <td>0.641084</td>\n",
       "    </tr>\n",
       "    <tr>\n",
       "      <th>3</th>\n",
       "      <td>4.75</td>\n",
       "      <td>119.34</td>\n",
       "      <td>1.059151</td>\n",
       "      <td>0.693656</td>\n",
       "    </tr>\n",
       "  </tbody>\n",
       "</table>\n",
       "</div>"
      ],
      "text/plain": [
       "          income  food_exp   y_tilda   x_tilda\n",
       "rownames                                      \n",
       "1           3.69    115.22  1.022585  0.538861\n",
       "2           4.39    135.98  1.206832  0.641084\n",
       "3           4.75    119.34  1.059151  0.693656"
      ]
     },
     "execution_count": 6,
     "metadata": {},
     "output_type": "execute_result"
    }
   ],
   "source": [
    "df_f['y_tilda'] = df_f['food_exp']/std_dev_y\n",
    "df_f['x_tilda'] = df_f['income']/std_dev_x\n",
    "df_f.head(3)"
   ]
  },
  {
   "cell_type": "code",
   "execution_count": 7,
   "metadata": {},
   "outputs": [
    {
     "name": "stdout",
     "output_type": "stream",
     "text": [
      "b1 = 0.7403227690836103, and b2 = 0.6204854770349206\n",
      "r_xy = 0.6204854770349205, R^2 = 0.3850022272112529\n"
     ]
    },
    {
     "data": {
      "image/png": "[encoded data removed]",
      "text/plain": [
       "<Figure size 640x480 with 1 Axes>"
      ]
     },
     "metadata": {},
     "output_type": "display_data"
    }
   ],
   "source": [
    "##For the regression: Y_TILDA = B1 + B2*X_TILDA + e\n",
    "\n",
    "#finding the linear regression\n",
    "x = df_f['x_tilda']\n",
    "y = df_f['y_tilda']\n",
    "lin_fit = Poly.polyfit(x,y,deg = 1,full = False)\n",
    "print(f\"b1 = {lin_fit[0]}, and b2 = {lin_fit[1]}\")\n",
    "x_l = np.linspace(0,6,50)\n",
    "plt.plot(x, y, 'o', label='original data')\n",
    "plt.plot(x_l, lin_fit[0] + lin_fit[1]*x_l, 'r', label = 'lin fit')\n",
    "\n",
    "#finding correlation\n",
    "corr_matrix = np.corrcoef(x,y)\n",
    "corr = corr_matrix[0][1]\n",
    "R_sq = corr**2\n",
    "print(f\"r_xy = {corr}, R^2 = {R_sq}\")"
   ]
  },
  {
   "cell_type": "code",
   "execution_count": 8,
   "metadata": {},
   "outputs": [
    {
     "name": "stdout",
     "output_type": "stream",
     "text": [
      "b1 = 1.301341109677856, and b2 = 0.6204854770349205\n",
      "r_xy = 0.6204854770349205, R^2 = 0.3850022272112529\n"
     ]
    },
    {
     "data": {
      "image/png": "[encoded data removed]",
      "text/plain": [
       "<Figure size 640x480 with 1 Axes>"
      ]
     },
     "metadata": {},
     "output_type": "display_data"
    }
   ],
   "source": [
    "##For the regression: X_TILDA = B1 + B2*Y_TILDA + e\n",
    "\n",
    "#finding the linear regression\n",
    "x = df_f['x_tilda']\n",
    "y = df_f['y_tilda']\n",
    "lin_fit = Poly.polyfit(y,x,deg = 1,full = False)\n",
    "print(f\"b1 = {lin_fit[0]}, and b2 = {lin_fit[1]}\")\n",
    "x_l = np.linspace(0,6,50)\n",
    "plt.plot(y, x, 'o', label='original data')\n",
    "plt.plot(x_l, lin_fit[0] + lin_fit[1]*x_l, 'r', label = 'lin fit')\n",
    "\n",
    "#finding correlation\n",
    "corr_matrix = np.corrcoef(x,y)\n",
    "corr = corr_matrix[0][1]\n",
    "R_sq = corr**2\n",
    "print(f\"r_xy = {corr}, R^2 = {R_sq}\")"
   ]
  },
  {
   "cell_type": "markdown",
   "metadata": {},
   "source": [
    "## Question 3\n",
    "\n",
    "Consider the same data set `food` of food expenditure and income used in the lectures.\n",
    "Let $Y$ denotes the food expenditure measured in dollars per week and $x$ denotes family income measured in \\\\$100/week.\n",
    "\n",
    "\n",
    ">(a) Compute the slope and elasticity for a family income\n",
    "of \\\\$ 1000 per week, that is, $x_0=10,$ for the linear model \n",
    "$$\\text{Linear Model: } Y = \\beta_1 + \\beta_2 \\cdot x + e $$\n",
    "Interpret these values.\n",
    "\n",
    ">(b)  Compute the slope and elasticity for a family income\n",
    "of \\\\$ 1000 per week, that is, $x_0=10,$ for the Log-Linear model \n",
    "$$\\text{Log-Linear Model: } \\log(Y) = \\beta_1 + \\beta_2 \\cdot x + e $$\n",
    "Interpret these values.<br>\n",
    "(Check Section 3  the Notebook `Week_5_Econ_103_Lab_Class_Part_I.ipynb`)\n",
    "\n",
    ">(c)  Compute the slope and elasticity for a family income\n",
    "of \\\\$ 1000 per week, that is, $x_0=10,$ for the Log-Log model \n",
    "$$\\text{Log-Log Model: } \\log(Y) = \\beta_1 + \\beta_2 \\cdot \\log(x) + e $$\n",
    "Interpret these values.<br>\n",
    "(Check Section 4  the Notebook `Week_5_Econ_103_Lab_Class_Part_I.ipynb`)\n",
    "\n"
   ]
  },
  {
   "cell_type": "markdown",
   "metadata": {},
   "source": [
    "a) $Y \\approx 83.41600202075934  + 10.209642968119491x$  <br>\n",
    "b) $log(Y) \\approx 4.78 + 0.04x$ <br>\n",
    "c) $log(Y) \\approx 3.964 + 0.556*log(x)$"
   ]
  },
  {
   "cell_type": "markdown",
   "metadata": {
    "deletable": false,
    "nbsimplegrader": {
     "response": true
    }
   },
   "source": [
    "<u><b>(a)</b></u> According to the `food` data, Slope $\\bf{(\\delta) = \\beta_2 \\approx 10.209}$, and Elasticity = $ \\eta = \\delta\\frac{x_0}{Y_{x_0}} = 10.209*\\frac{10}{83.416+10.209} \\approx \\bf{0.1}$ \n",
    "\n",
    "This means for a family of \\\\$1000 a week, the expected increase of \\\\$100 a week, will increase food expenditure by ~\\\\$102.09. In percentage terms this means that for a 1% increase in the families wealth, they will increase food expenditure by 10%. <br><br>\n",
    "\n",
    "\n",
    "<u><b>(b)</b></u> Plugging in $x_0$, <br>\n",
    "Slope $(\\delta) = \\beta_2Y_{x_0} = 0.04*(Y_{x_0})$ <br>\n",
    "$log(Y_{x_0}) = 10*0.04 + 4.78 = 5.18 \\implies Y_{x_0} = e^{5.18} = 177.6828$ <br>\n",
    "$\\delta \\approx 0.04*177.6828 \\implies \\bf{\\delta \\approx 7.107}$\n",
    "\n",
    "Elasticity $(\\eta) = \\delta \\frac{x_0}{Y_{x_0}} = (\\beta_2Y_{x_0})\\frac{x_0}{Y_{x_0}} = \\beta_2x_0 = 0.04*10$ <br>\n",
    "$\\bf{ \\eta \\approx 0.4}$ <br><br>\n",
    "\n",
    "This means for a family of \\\\$1000 a week, the expected increase of \\\\$100 a week, will increase food expenditure by ~\\\\$71.07. In percentage terms this means that for a 1% increase in the families wealth, they will increase food expenditure by 40%. <br><br>\n",
    "\n",
    "<u><b>(c)</b></u> Slope $(\\delta) = \\frac{dy}{dx} \\implies \\frac{dy}{dx}(log(Y) = \\beta_1 + \\beta_2log(x)) \\implies \\frac{1}{y}dx = \\beta_2\\frac{1}{x}dy \\implies \\frac{dy}{dx} = \\frac{x}{Y\\beta_2}$ <br>\n",
    "Plugging in $x_0$, <br>\n",
    "Slope $(\\delta) = \\frac{x_0}{\\beta_2Y_{x_0}} = \\frac{10}{0.556Y_{x_0}}$ <br>\n",
    "$log(Y_{x_0}) = 3.964 + 0.556log(10) = 3.964 + 1.28 \\implies Y_{x_0} = e^5.244 = 189.4712$ <br>\n",
    "$\\delta \\approx \\frac{10}{0.556*189.4712} \\approx \\bf{0.1}$ <br>\n",
    "\n",
    "Elasticity $(\\eta) = \\delta \\frac{x_0}{Y_{x_0}} = \\frac{x_0}{Y_{x_0}\\beta_2} \\frac{x_0}{Y_{x_0}} = \\frac{1}{\\beta_2}{(\\frac{x_0}{Y_{x_0}})}^2 = \\frac{10^2}{189.4712^2}*\\frac{1}{0.556}$ <br>\n",
    "$\\eta \\approx \\bf{0.00501}$\n",
    "\n",
    "This means for a family of \\\\$1000 a week the increase of \\\\$100 will have an expecteded increase food expenditure by ~\\\\$10. <br> Note: This is approximately the same as the elasticity of the linear model.\n"
   ]
  },
  {
   "cell_type": "code",
   "execution_count": null,
   "metadata": {},
   "outputs": [],
   "source": []
  },
  {
   "cell_type": "code",
   "execution_count": null,
   "metadata": {
    "deletable": false,
    "nbsimplegrader": {
     "response": true
    }
   },
   "outputs": [],
   "source": []
  },
  {
   "cell_type": "markdown",
   "metadata": {},
   "source": [
    "## Question 4  (q. 4.4, page 158)\n",
    "\n",
    "\n",
    "The general manager of an engineering firm wants to know whether a technical artist's experience influences the quality of his or her work. A random sample of 50 artists is selected and their years of work experience and quality rating (as assessed by their supervisors) are recorded. Work experience ($EXPER$) is measured in years and quality rating ($RATING$) takes a value in the interval one to four, with $4 =$ very good and $1 =$ very poor. Two models are estimated by least squares. The estimates and standard errors are \n",
    "\n",
    "$$\\text{Model 1:} \\ \\underset{(se)}{\\widehat{RATING}} = \\underset{(0.0375)}{3.446} - \\underset{(0.0000786)}{0.001459}(EXPER - 35)^2; \\ \\ N = 50$$\n",
    "\n",
    "$$\\text{Model 2:} \\ \\underset{(se)}{\\widehat{RATING}} = \\underset{(0.1333)}{1.4276} + \\underset{(0.04333)}{0.5343}\\log(EXPER); \\ \\ N = 50$$\n",
    "\n",
    "<br>\n",
    "\n",
    "In this question you do not need to evaluate a regression, but simply use the information on the regressions presented above.\n",
    "\n",
    ">(a) For each model, predict the rating of a worker with 10 years of experience. <br>\n",
    "(To answer this question, you may want to see Section 5 of the notebook `Week_5_Econ_103_Lab_Class_Part_I.ipynb`)<br>\n",
    "\n",
    ">(b) Using each model, estimate the expected marginal effect of another year of experience on the expected worker rating for a worker with 10 years experience.<br>\n",
    "(To answer this question, you may want to see Section 5 of the notebook `Week_5_Econ_103_Lab_Class_Part_I.ipynb`)\n",
    "\n",
    ">(c) Using each model, construct a 95\\% interval estimate for the average marginal effect found in (b). <br>\n",
    "To answer this question, you will need to compute the estimated standard erro of your marginal effect, which turns out to be a simple linear transformation of the estimator $b_2.$<br>\n",
    "You will also need to compute the critical value $t_c$.<br>\n",
    "You may find it usefull to check section 4 of the the notebook `Week_4_Econ_103_Lab_Class.ipynb`.<br>\n",
    "The section computes the confidence interval for $\\lambda = c_1 b_1 + c_2 b_2$ where $c_1 = 1$ and $c_2 = 20.$<br>\n",
    "This question is simpler as the marginal effect is linear transformation of $b_2$ only. \n",
    "\n",
    "\n",
    "\n"
   ]
  },
  {
   "cell_type": "markdown",
   "metadata": {},
   "source": []
  },
  {
   "cell_type": "markdown",
   "metadata": {
    "deletable": false,
    "nbsimplegrader": {
     "response": true
    }
   },
   "source": [
    "(a) Model 1: $\\widehat{RATING} = 3.446−0.001459(𝐸𝑋𝑃𝐸𝑅−35)^2 \\implies 3.446−0.001459(10−35)^2 \\approx \\bf{2.534125}$\n",
    "<br> Model 2: $\\widehat{RATING} = 1.4276+0.5343log(𝐸𝑋𝑃𝐸𝑅) \\implies 1.4276+0.5343ln(10) \\approx \\bf{2.65787}$ \n",
    "\n",
    "(b) Model 1: $\\frac{dRATING}{dx} = −0.002918(𝐸𝑋𝑃𝐸𝑅−35) = −0.002918𝐸𝑋𝑃𝐸𝑅+0.10213 \\implies −0.002918(10)+0.10213 =  \\bf{0.07295}$ \n",
    "<br> Model 2: $\\frac{dRATING}{dx} = \\frac{0.5343}{𝐸𝑋𝑃𝐸𝑅} \\implies \\bf{5.354}$ <br>\n",
    "\n",
    "(c) $CI = b_2 \\pm t_c*se(b_2)$. We have $t_c =  2.009575$, $se(b_2) = 0.04333$, and $b_2 = 0.5343.$ <br>\n",
    "So, $CI = 0.5343 \\pm 0.087074 \\approx \\bf{[0.44722, 0.62137]}$\n"
   ]
  },
  {
   "cell_type": "code",
   "execution_count": null,
   "metadata": {
    "deletable": false,
    "nbsimplegrader": {
     "response": true
    }
   },
   "outputs": [],
   "source": []
  },
  {
   "cell_type": "markdown",
   "metadata": {},
   "source": [
    "## Question 5 (q. 4.8, page 159)\n",
    "\n",
    "The first three columns in the file $`wa\\_wheat`$ contain observations on wheat yield in the Western Australian shires Northampton, Chapman Valley, and Mullewa, respectively. There are 48 annual observations for the years 1950 - 1997. \n",
    "The name of the varibale that contains data on the crop yields of the Chapman Valley Shire is called `chapman`.<br> \n",
    "For the **Chapman Valley Shire,** consider the four itens below:\n",
    "\n",
    "The tasks performed in this exercise requires the commands discussed in the Notebook `Week_5_Econ_103_Lab_Class 2021.ipynb`<br>\n",
    "Please study the Notebook before attempting the question.\n",
    "\n",
    ">(a)  This item consistis of three tasks where $Y$ syands for crop yield of the  Chapman Valley Shire:<br>\n",
    "(a.1) Estimate the Linear model $Y = \\beta_{1}  + \\beta_{2}time + \\epsilon$  <br>\n",
    "(a.2) Plot the residuals of the regression                                  <br> \n",
    "(for commands, you can check Section 1 of `Week_5_Econ_103_Lab_Class_Part_II.ipynb`)<br>\n",
    "(a.3) Test the normality of the residuals using the Jarque-Bera test        <br>\n",
    "(for Jarque-Bera test commands, see Section 3 of `Week_5_Econ_103_Lab_Class_Part_II.ipynb`)<br>\n",
    "      \n",
    ">(b)  This item consistis of three tasks in the same fashion as in the item (a):<br>\n",
    "(b.1) Estimate the Linear-log model $Y = \\alpha_{1} + \\alpha_{2}\\log(time) + \\epsilon$ <br>\n",
    "(b.2) Plot the residuals of the regression <br>\n",
    "(b.3) Test the normality of the residuals using the Jarque-Bera test <br>\n",
    "(For commands related to the estimation of the Linear-log model, see Section 3 of `Week_5_Econ_103_Lab_Class_Part_I.ipynb`)<br>\n",
    "(for Jarque-Bera test commands, see Section 3 of `Week_5_Econ_103_Lab_Class_Part_II.ipynb`)<br>\n",
    "\n",
    "\n",
    ">(c) Taking into consideration (i) plots of the fitted equations, (ii) plots of the residuals, (iii) error normality tests, and (iv) values for $R^{2}$, which equation do you think is preferable? (This is a theoretical question, no code needed)   \n"
   ]
  },
  {
   "cell_type": "markdown",
   "metadata": {
    "deletable": false,
    "nbsimplegrader": {
     "response": true
    }
   },
   "source": [
    "(a) You can simply show the code in the cell below\n",
    "\n",
    "(b) You can simply show the code in the cell below\n",
    "\n",
    "<b><u>(c)</u> I think since the the graph of both the model and the residuals both looks more well fit (i/ii), and $R^2$ value is closer to 1 on the linear model (iv), the linear model is the preferred model, even though the linear-log model has a lower p-value tbe Jarque-Bera test(iii). </b><br>\n",
    "Note: A quadratic or log-linear model looks like it would be even better!\n",
    "\n"
   ]
  },
  {
   "cell_type": "code",
   "execution_count": 9,
   "metadata": {
    "deletable": false,
    "nbsimplegrader": {
     "response": true
    }
   },
   "outputs": [
    {
     "data": {
      "text/html": [
       "<div>\n",
       "<style scoped>\n",
       "    .dataframe tbody tr th:only-of-type {\n",
       "        vertical-align: middle;\n",
       "    }\n",
       "\n",
       "    .dataframe tbody tr th {\n",
       "        vertical-align: top;\n",
       "    }\n",
       "\n",
       "    .dataframe thead th {\n",
       "        text-align: right;\n",
       "    }\n",
       "</style>\n",
       "<table border=\"1\" class=\"dataframe\">\n",
       "  <thead>\n",
       "    <tr style=\"text-align: right;\">\n",
       "      <th></th>\n",
       "      <th>time</th>\n",
       "      <th>chapman</th>\n",
       "    </tr>\n",
       "    <tr>\n",
       "      <th>rownames</th>\n",
       "      <th></th>\n",
       "      <th></th>\n",
       "    </tr>\n",
       "  </thead>\n",
       "  <tbody>\n",
       "    <tr>\n",
       "      <th>1</th>\n",
       "      <td>1.0</td>\n",
       "      <td>1.0955</td>\n",
       "    </tr>\n",
       "    <tr>\n",
       "      <th>2</th>\n",
       "      <td>2.0</td>\n",
       "      <td>0.7595</td>\n",
       "    </tr>\n",
       "    <tr>\n",
       "      <th>3</th>\n",
       "      <td>3.0</td>\n",
       "      <td>0.7527</td>\n",
       "    </tr>\n",
       "  </tbody>\n",
       "</table>\n",
       "</div>"
      ],
      "text/plain": [
       "          time  chapman\n",
       "rownames               \n",
       "1          1.0   1.0955\n",
       "2          2.0   0.7595\n",
       "3          3.0   0.7527"
      ]
     },
     "execution_count": 9,
     "metadata": {},
     "output_type": "execute_result"
    }
   ],
   "source": [
    "#swapping food.rda rows, so \"x\" comes first and getting rid of extraneous data\n",
    "column_order = ['time','chapman']\n",
    "df_w = df_w.reindex(columns = column_order)\n",
    "df_w.head(3)"
   ]
  },
  {
   "cell_type": "code",
   "execution_count": 10,
   "metadata": {},
   "outputs": [
    {
     "name": "stdout",
     "output_type": "stream",
     "text": [
      "b1 = 0.6775954009053559, and b2 = 0.016113878296113136\n",
      "r_xy = 0.6778535079865237, R^2 = 0.4594853782896361\n"
     ]
    },
    {
     "data": {
      "image/png": "[encoded data removed]",
      "text/plain": [
       "<Figure size 640x480 with 1 Axes>"
      ]
     },
     "metadata": {},
     "output_type": "display_data"
    }
   ],
   "source": [
    "##For the regression: Y = B1 + B2*X + e\n",
    "\n",
    "#finding the linear regression\n",
    "x = df_w['time']\n",
    "y = df_w['chapman']\n",
    "lin_fit = Poly.polyfit(x,y,deg = 1,full = False)\n",
    "print(f\"b1 = {lin_fit[0]}, and b2 = {lin_fit[1]}\")\n",
    "x_l = np.linspace(0,60,100)\n",
    "plt.plot(x, y, 'o', label='original data')\n",
    "plt.plot(x_l, lin_fit[0] + lin_fit[1]*x_l, 'r', label = 'lin fit')\n",
    "\n",
    "#finding correlation\n",
    "corr_matrix = np.corrcoef(x,y)\n",
    "corr = corr_matrix[0][1]\n",
    "R_sq = corr**2\n",
    "print(f\"r_xy = {corr}, R^2 = {R_sq}\")"
   ]
  },
  {
   "cell_type": "code",
   "execution_count": 11,
   "metadata": {},
   "outputs": [
    {
     "data": {
      "text/plain": [
       "<matplotlib.lines.Line2D at 0x13af6c203a0>"
      ]
     },
     "execution_count": 11,
     "metadata": {},
     "output_type": "execute_result"
    },
    {
     "data": {
      "image/png": "[encoded data removed]",
      "text/plain": [
       "<Figure size 640x480 with 1 Axes>"
      ]
     },
     "metadata": {},
     "output_type": "display_data"
    }
   ],
   "source": [
    "#plotting residuals\n",
    "df_w[\"chapman_resid\"] = df_w['chapman'] - (lin_fit[0] + lin_fit[1]*df_w['time'])\n",
    "x_l = np.linspace(0,60,100)\n",
    "plt.plot(x, df_w[\"chapman_resid\"], 'o', label='data')\n",
    "plt.axhline(y=0, color = 'r', label = 'fitted line')"
   ]
  },
  {
   "cell_type": "code",
   "execution_count": 12,
   "metadata": {},
   "outputs": [
    {
     "data": {
      "text/plain": [
       "SignificanceResult(statistic=0.27877639369333773, pvalue=0.8698902742435233)"
      ]
     },
     "execution_count": 12,
     "metadata": {},
     "output_type": "execute_result"
    }
   ],
   "source": [
    "#Jarque-Bera Test\n",
    "import scipy.stats as stats\n",
    "stats.jarque_bera(df_w[\"chapman_resid\"])"
   ]
  },
  {
   "cell_type": "code",
   "execution_count": 13,
   "metadata": {},
   "outputs": [
    {
     "name": "stdout",
     "output_type": "stream",
     "text": [
      "b1 = 0.5286974903908429, and b2 = 0.1855142723265702\n",
      "r_xy = 0.4941013242582315, R^2 = 0.24413611863373802\n"
     ]
    },
    {
     "name": "stderr",
     "output_type": "stream",
     "text": [
      "C:\\Users\\mnapo\\AppData\\Local\\Temp\\ipykernel_41396\\3354949684.py:10: RuntimeWarning: divide by zero encountered in log\n",
      "  plt.plot(x_l, lin_fit[0] + lin_fit[1]*np.log(x_l), 'r', label = 'log fit')\n"
     ]
    },
    {
     "data": {
      "image/png": "[encoded data removed]",
      "text/plain": [
       "<Figure size 640x480 with 1 Axes>"
      ]
     },
     "metadata": {},
     "output_type": "display_data"
    }
   ],
   "source": [
    "##For the regression: Y = B1 + B2*log(X) + e\n",
    "\n",
    "#finding the linear regression\n",
    "x = df_w['time']\n",
    "y = df_w['chapman']\n",
    "lin_fit = Poly.polyfit(np.log(x),y,deg = 1,full = False)\n",
    "print(f\"b1 = {lin_fit[0]}, and b2 = {lin_fit[1]}\")\n",
    "x_l = np.linspace(0,60,100)\n",
    "plt.plot(x, y, 'o', label='original data')\n",
    "plt.plot(x_l, lin_fit[0] + lin_fit[1]*np.log(x_l), 'r', label = 'log fit')\n",
    "\n",
    "#finding correlation\n",
    "corr_matrix = np.corrcoef(np.log(x),y)\n",
    "corr = corr_matrix[0][1]\n",
    "R_sq = corr**2\n",
    "print(f\"r_xy = {corr}, R^2 = {R_sq}\")"
   ]
  },
  {
   "cell_type": "code",
   "execution_count": 14,
   "metadata": {},
   "outputs": [
    {
     "data": {
      "text/plain": [
       "<matplotlib.lines.Line2D at 0x13af8ff6170>"
      ]
     },
     "execution_count": 14,
     "metadata": {},
     "output_type": "execute_result"
    },
    {
     "data": {
      "image/png": "[encoded data removed]",
      "text/plain": [
       "<Figure size 640x480 with 1 Axes>"
      ]
     },
     "metadata": {},
     "output_type": "display_data"
    }
   ],
   "source": [
    "#plotting residuals\n",
    "df_w[\"chapman_resid_log\"] = df_w['chapman'] - (lin_fit[0] + lin_fit[1]*np.log(df_w['time']))\n",
    "x_l = np.linspace(0,60,100)\n",
    "plt.plot(x, df_w[\"chapman_resid_log\"], 'o', label='data')\n",
    "plt.axhline(y=0, color = 'r', label = 'fitted line')"
   ]
  },
  {
   "cell_type": "code",
   "execution_count": 16,
   "metadata": {},
   "outputs": [
    {
     "data": {
      "text/plain": [
       "SignificanceResult(statistic=1.9248120666550763, pvalue=0.38197274032502215)"
      ]
     },
     "execution_count": 16,
     "metadata": {},
     "output_type": "execute_result"
    }
   ],
   "source": [
    "#Jarque-Bera Test\n",
    "stats.jarque_bera(df_w[\"chapman_resid_log\"])"
   ]
  }
 ],
 "metadata": {
  "celltoolbar": "nbsimplegrader",
  "kernelspec": {
   "display_name": "Python 3 (ipykernel)",
   "language": "python",
   "name": "python3"
  },
  "language_info": {
   "codemirror_mode": {
    "name": "ipython",
    "version": 3
   },
   "file_extension": ".py",
   "mimetype": "text/x-python",
   "name": "python",
   "nbconvert_exporter": "python",
   "pygments_lexer": "ipython3",
   "version": "3.10.9"
  },
  "toc": {
   "base_numbering": 1,
   "nav_menu": {},
   "number_sections": true,
   "sideBar": true,
   "skip_h1_title": false,
   "title_cell": "Table of Contents",
   "title_sidebar": "Contents",
   "toc_cell": false,
   "toc_position": {},
   "toc_section_display": true,
   "toc_window_display": false
  }
 },
 "nbformat": 4,
 "nbformat_minor": 4
}
